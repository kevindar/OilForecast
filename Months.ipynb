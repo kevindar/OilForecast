{
 "cells": [
  {
   "cell_type": "code",
   "execution_count": 146,
   "metadata": {},
   "outputs": [],
   "source": [
    "import pandas as pd\n",
    "import numpy as np"
   ]
  },
  {
   "cell_type": "code",
   "execution_count": 147,
   "metadata": {},
   "outputs": [],
   "source": [
    "csv = pd.read_csv('oil.csv')\n",
    "\n",
    "ts = pd.DataFrame([])"
   ]
  },
  {
   "cell_type": "code",
   "execution_count": 148,
   "metadata": {},
   "outputs": [],
   "source": [
    "month = ['Jan', 'Feb', 'Mar', 'Apr', 'May', 'Jun', 'Jul', 'Aug', 'Sep', 'Oct', 'Nov', 'Dec']\n",
    "\n",
    "for year in range(1988, 2019):\n",
    "\n",
    "    df = pd.DataFrame(csv[csv.Year == year])\n",
    "\n",
    "    df.reset_index(inplace=True)\n",
    "\n",
    "    df = df.drop(['index'], axis=1)\n",
    "\n",
    "    Jan=[];Feb=[];Mar=[];Apr=[];May=[];Jun=[];Jul=[];Aug=[];Sep=[];Oct=[];Nov=[];Dec=[];\n",
    "\n",
    "    for row in df.index:\n",
    "        i = df.Date.iloc[row]\n",
    "        if arr[0] in i:\n",
    "            Jan.append(df.Price.iloc[row])\n",
    "        if arr[1] in i:\n",
    "            Feb.append(df.Price.iloc[row])\n",
    "        if arr[2] in i:\n",
    "            Mar.append(df.Price.iloc[row])\n",
    "        if arr[3] in i:\n",
    "            Apr.append(df.Price.iloc[row])\n",
    "        if arr[4] in i:\n",
    "            May.append(df.Price.iloc[row])\n",
    "        if arr[5] in i:\n",
    "            Jun.append(df.Price.iloc[row])\n",
    "        if arr[6] in i:\n",
    "            Jul.append(df.Price.iloc[row])\n",
    "        if arr[7] in i:\n",
    "            Aug.append(df.Price.iloc[row])\n",
    "        if arr[8] in i:\n",
    "            Sep.append(df.Price.iloc[row])\n",
    "        if arr[9] in i:\n",
    "            Oct.append(df.Price.iloc[row])\n",
    "        if arr[10] in i:\n",
    "            Nov.append(df.Price.iloc[row])\n",
    "        if arr[11] in i:\n",
    "            Dec.append(df.Price.iloc[row])\n",
    "\n",
    "    Jan.sort()\n",
    "    Feb.sort()\n",
    "    Mar.sort()\n",
    "    Apr.sort()\n",
    "    May.sort()\n",
    "    Jun.sort()\n",
    "    Jul.sort()\n",
    "    Aug.sort()\n",
    "    Sep.sort()\n",
    "    Oct.sort()\n",
    "    Nov.sort()\n",
    "    Dec.sort()\n",
    "\n",
    "    max_values = [Jan[-1], Feb[-1], Mar[-1], Apr[-1], May[-1], Jun[-1], Jul[-1], Aug[-1], Sep[-1], Oct[-1], Nov[-1], Dec[-1]]\n",
    "\n",
    "    new_year = pd.period_range(str(year), periods=12, freq='M')\n",
    "\n",
    "    ts = ts.append(list(zip(new_year, max_values)))"
   ]
  },
  {
   "cell_type": "code",
   "execution_count": 149,
   "metadata": {},
   "outputs": [
    {
     "data": {
      "text/html": [
       "<div>\n",
       "<style scoped>\n",
       "    .dataframe tbody tr th:only-of-type {\n",
       "        vertical-align: middle;\n",
       "    }\n",
       "\n",
       "    .dataframe tbody tr th {\n",
       "        vertical-align: top;\n",
       "    }\n",
       "\n",
       "    .dataframe thead th {\n",
       "        text-align: right;\n",
       "    }\n",
       "</style>\n",
       "<table border=\"1\" class=\"dataframe\">\n",
       "  <thead>\n",
       "    <tr style=\"text-align: right;\">\n",
       "      <th></th>\n",
       "      <th>0</th>\n",
       "      <th>1</th>\n",
       "    </tr>\n",
       "  </thead>\n",
       "  <tbody>\n",
       "    <tr>\n",
       "      <th>0</th>\n",
       "      <td>1988-01</td>\n",
       "      <td>17.95</td>\n",
       "    </tr>\n",
       "    <tr>\n",
       "      <th>1</th>\n",
       "      <td>1988-02</td>\n",
       "      <td>16.50</td>\n",
       "    </tr>\n",
       "    <tr>\n",
       "      <th>2</th>\n",
       "      <td>1988-03</td>\n",
       "      <td>15.70</td>\n",
       "    </tr>\n",
       "    <tr>\n",
       "      <th>3</th>\n",
       "      <td>1988-04</td>\n",
       "      <td>17.45</td>\n",
       "    </tr>\n",
       "    <tr>\n",
       "      <th>4</th>\n",
       "      <td>1988-05</td>\n",
       "      <td>16.60</td>\n",
       "    </tr>\n",
       "  </tbody>\n",
       "</table>\n",
       "</div>"
      ],
      "text/plain": [
       "         0      1\n",
       "0  1988-01  17.95\n",
       "1  1988-02  16.50\n",
       "2  1988-03  15.70\n",
       "3  1988-04  17.45\n",
       "4  1988-05  16.60"
      ]
     },
     "execution_count": 149,
     "metadata": {},
     "output_type": "execute_result"
    }
   ],
   "source": [
    "ts.head()"
   ]
  },
  {
   "cell_type": "code",
   "execution_count": 150,
   "metadata": {},
   "outputs": [
    {
     "data": {
      "text/html": [
       "<div>\n",
       "<style scoped>\n",
       "    .dataframe tbody tr th:only-of-type {\n",
       "        vertical-align: middle;\n",
       "    }\n",
       "\n",
       "    .dataframe tbody tr th {\n",
       "        vertical-align: top;\n",
       "    }\n",
       "\n",
       "    .dataframe thead th {\n",
       "        text-align: right;\n",
       "    }\n",
       "</style>\n",
       "<table border=\"1\" class=\"dataframe\">\n",
       "  <thead>\n",
       "    <tr style=\"text-align: right;\">\n",
       "      <th></th>\n",
       "      <th>0</th>\n",
       "      <th>1</th>\n",
       "    </tr>\n",
       "  </thead>\n",
       "  <tbody>\n",
       "    <tr>\n",
       "      <th>7</th>\n",
       "      <td>2018-08</td>\n",
       "      <td>77.05</td>\n",
       "    </tr>\n",
       "    <tr>\n",
       "      <th>8</th>\n",
       "      <td>2018-09</td>\n",
       "      <td>82.72</td>\n",
       "    </tr>\n",
       "    <tr>\n",
       "      <th>9</th>\n",
       "      <td>2018-10</td>\n",
       "      <td>86.07</td>\n",
       "    </tr>\n",
       "    <tr>\n",
       "      <th>10</th>\n",
       "      <td>2018-11</td>\n",
       "      <td>72.68</td>\n",
       "    </tr>\n",
       "    <tr>\n",
       "      <th>11</th>\n",
       "      <td>2018-12</td>\n",
       "      <td>61.71</td>\n",
       "    </tr>\n",
       "  </tbody>\n",
       "</table>\n",
       "</div>"
      ],
      "text/plain": [
       "          0      1\n",
       "7   2018-08  77.05\n",
       "8   2018-09  82.72\n",
       "9   2018-10  86.07\n",
       "10  2018-11  72.68\n",
       "11  2018-12  61.71"
      ]
     },
     "execution_count": 150,
     "metadata": {},
     "output_type": "execute_result"
    }
   ],
   "source": [
    "ts.tail()"
   ]
  },
  {
   "cell_type": "code",
   "execution_count": 151,
   "metadata": {},
   "outputs": [],
   "source": [
    "ts.columns = ['Date', 'Price']\n",
    "\n",
    "ts = ts.set_index('Date')\n",
    "\n",
    "ts.to_csv('oil_months.csv')"
   ]
  },
  {
   "cell_type": "code",
   "execution_count": null,
   "metadata": {},
   "outputs": [],
   "source": []
  }
 ],
 "metadata": {
  "kernelspec": {
   "display_name": "Python 3",
   "language": "python",
   "name": "python3"
  },
  "language_info": {
   "codemirror_mode": {
    "name": "ipython",
    "version": 3
   },
   "file_extension": ".py",
   "mimetype": "text/x-python",
   "name": "python",
   "nbconvert_exporter": "python",
   "pygments_lexer": "ipython3",
   "version": "3.7.3"
  }
 },
 "nbformat": 4,
 "nbformat_minor": 2
}
